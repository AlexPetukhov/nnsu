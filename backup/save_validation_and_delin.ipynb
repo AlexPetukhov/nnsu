{
 "cells": [
  {
   "cell_type": "code",
   "execution_count": 16,
   "metadata": {
    "collapsed": true
   },
   "outputs": [],
   "source": [
    "import keras\n",
    "from keras.losses import SparseCategoricalCrossentropy\n",
    "from keras.models import load_model\n",
    "import keras.layers as L\n",
    "import os, csv\n",
    "import numpy as np\n",
    "import scipy.io as sio\n",
    "import pandas as pd"
   ]
  },
  {
   "cell_type": "code",
   "execution_count": 17,
   "outputs": [],
   "source": [
    "def load_data(record_path, delineation_path):\n",
    "    data = sio.loadmat(record_path)\n",
    "    signal = data['ECG']['data'][0][0]\n",
    "    delineation = np.load(delineation_path) / 5\n",
    "\n",
    "    signal = signal.T\n",
    "    delineation = delineation.T\n",
    "    signal_list = []\n",
    "    delineation_list = []\n",
    "\n",
    "    for i in range(0, signal.shape[0] - 2500, 4500):\n",
    "        signal_slice = signal[i :i  + 4500, :]\n",
    "        if signal_slice.shape[0] < 4500:\n",
    "            signal_slice = signal[-4500:, :]\n",
    "\n",
    "        delineation_slice = delineation[i : i + 4500, :]\n",
    "        if delineation_slice.shape[0] < 4500:\n",
    "            delineation_slice = delineation[-4500:, :]\n",
    "\n",
    "        signal_list.append(signal_slice)\n",
    "        delineation_list.append(delineation_slice)\n",
    "    return signal_list, delineation_list\n",
    "    # return signal.T, delineation.T\n",
    "\n",
    "data_and_delin_path = 'DATA'\n",
    "data_path = os.path.join(data_and_delin_path, \"validation_set\")\n",
    "data_list = os.listdir(data_path)\n",
    "delin_path = os.path.join(data_and_delin_path,\"delineation_leads_val\")\n",
    "delin_list = os.listdir(delin_path)\n",
    "if 'REFERENCE.csv' in data_list:\n",
    "    data_list.remove('REFERENCE.csv')\n",
    "if '.DS_Store' in data_list:\n",
    "    data_list.remove('.DS_Store')\n",
    "if 'REFERENCE.csv' in delin_list:\n",
    "    delin_list.remove('REFERENCE.csv')\n",
    "if '.DS_Store' in delin_list:\n",
    "    delin_list.remove('.DS_Store')\n",
    "data_list.sort()\n",
    "delin_list.sort()\n",
    "\n",
    "x_train = []\n",
    "y_train = []\n",
    "reference_dict = {}\n",
    "reference_path = os.path.join(data_path, 'REFERENCE.csv')\n",
    "reader = pd.read_csv(reference_path)\n",
    "for i, row in reader.iterrows():\n",
    "    reference_dict[row['Recording']] = int(row['First_label'])\n",
    "\n",
    "dataset = []\n",
    "for data, delin in zip(data_list, delin_list):\n",
    "    cur_data_path = os.path.join(data_path, data)\n",
    "    cur_delin_path = os.path.join(delin_path, delin)\n",
    "    signal_list, delineation_list = load_data(cur_data_path, cur_delin_path)\n",
    "    name = data.split('.')[0]\n",
    "    reference_value = reference_dict[name] - 1\n",
    "    for cur_signal, cur_delin in zip(signal_list, delineation_list):\n",
    "        dataset.append([name, reference_value, np.concatenate((cur_signal, cur_delin), axis=1)])\n",
    "\n",
    "\n",
    "X = np.array([x[2] for x in dataset])\n",
    "y = np.array([x[1] for x in dataset])\n",
    "name = np.array([x[0] for x in dataset])\n",
    "\n",
    "np.save('X', X)\n",
    "np.save('y', y)\n",
    "np.save('name', name)"
   ],
   "metadata": {
    "collapsed": false,
    "pycharm": {
     "name": "#%%\n"
    }
   }
  }
 ],
 "metadata": {
  "kernelspec": {
   "display_name": "Python 3",
   "language": "python",
   "name": "python3"
  },
  "language_info": {
   "codemirror_mode": {
    "name": "ipython",
    "version": 2
   },
   "file_extension": ".py",
   "mimetype": "text/x-python",
   "name": "python",
   "nbconvert_exporter": "python",
   "pygments_lexer": "ipython2",
   "version": "2.7.6"
  }
 },
 "nbformat": 4,
 "nbformat_minor": 0
}