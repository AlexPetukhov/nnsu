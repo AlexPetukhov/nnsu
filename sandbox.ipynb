{
 "cells": [
  {
   "cell_type": "code",
   "execution_count": 1,
   "metadata": {
    "collapsed": true
   },
   "outputs": [
    {
     "name": "stdout",
     "output_type": "stream",
     "text": [
      "INFO:tensorflow:Enabling eager execution\n",
      "INFO:tensorflow:Enabling v2 tensorshape\n",
      "INFO:tensorflow:Enabling resource variables\n",
      "INFO:tensorflow:Enabling tensor equality\n",
      "INFO:tensorflow:Enabling control flow v2\n"
     ]
    }
   ],
   "source": [
    "import sys\n",
    "\n",
    "sys.path.append('/Users/coubex/nnsu/')\n",
    "sys.path.append('/home/coubex/nnsu/')\n",
    "\n",
    "from keras.models import load_model\n",
    "from lib.lib import *"
   ]
  },
  {
   "cell_type": "code",
   "execution_count": 2,
   "outputs": [
    {
     "name": "stdout",
     "output_type": "stream",
     "text": [
      "Model: \"model\"\n",
      "_________________________________________________________________\n",
      "Layer (type)                 Output Shape              Param #   \n",
      "=================================================================\n",
      "input_1 (InputLayer)         [(None, 3000, 8)]         0         \n",
      "_________________________________________________________________\n",
      "conv1d (Conv1D)              (None, 600, 32)           2336      \n",
      "_________________________________________________________________\n",
      "dropout (Dropout)            (None, 600, 32)           0         \n",
      "_________________________________________________________________\n",
      "conv1d_1 (Conv1D)            (None, 120, 32)           9248      \n",
      "_________________________________________________________________\n",
      "batch_normalization (BatchNo (None, 120, 32)           128       \n",
      "_________________________________________________________________\n",
      "re_lu (ReLU)                 (None, 120, 32)           0         \n",
      "_________________________________________________________________\n",
      "conv1d_2 (Conv1D)            (None, 24, 32)            9248      \n",
      "_________________________________________________________________\n",
      "dropout_2 (Dropout)          (None, 24, 32)            0         \n",
      "_________________________________________________________________\n",
      "conv1d_3 (Conv1D)            (None, 5, 32)             9248      \n",
      "_________________________________________________________________\n",
      "batch_normalization_1 (Batch (None, 5, 32)             128       \n",
      "_________________________________________________________________\n",
      "re_lu_1 (ReLU)               (None, 5, 32)             0         \n",
      "_________________________________________________________________\n",
      "dropout_3 (Dropout)          (None, 5, 32)             0         \n",
      "_________________________________________________________________\n",
      "flatten (Flatten)            (None, 160)               0         \n",
      "_________________________________________________________________\n",
      "dense (Dense)                (None, 512)               82432     \n",
      "_________________________________________________________________\n",
      "dense_1 (Dense)              (None, 9)                 4617      \n",
      "=================================================================\n",
      "Total params: 117,385\n",
      "Trainable params: 117,257\n",
      "Non-trainable params: 128\n",
      "_________________________________________________________________\n"
     ]
    }
   ],
   "source": [
    "model = load_model('GOOD/6sec/noDelin_noFeatures/models/117385.h5')\n",
    "\n",
    "model.summary()"
   ],
   "metadata": {
    "collapsed": false,
    "pycharm": {
     "name": "#%%\n"
    }
   }
  }
 ],
 "metadata": {
  "kernelspec": {
   "display_name": "Python 3",
   "language": "python",
   "name": "python3"
  },
  "language_info": {
   "codemirror_mode": {
    "name": "ipython",
    "version": 2
   },
   "file_extension": ".py",
   "mimetype": "text/x-python",
   "name": "python",
   "nbconvert_exporter": "python",
   "pygments_lexer": "ipython2",
   "version": "2.7.6"
  }
 },
 "nbformat": 4,
 "nbformat_minor": 0
}